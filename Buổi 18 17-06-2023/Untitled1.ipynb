{
 "cells": [
  {
   "cell_type": "code",
   "execution_count": 5,
   "id": "90e879f6",
   "metadata": {},
   "outputs": [
    {
     "name": "stdout",
     "output_type": "stream",
     "text": [
      "{('Hà Văng Hoàng', 24, 'Hà Nội'): [6, 9, 10], ('Trần Minh Tân', 26, 'Nghệ An'): [5, 8, 7], ('Cao Hoàng Yến', 20, 'Bắc Ninh'): [6, 10, 5]} [6, 10, 5]\n",
      "{('Hà Văng Hoàng', 24, 'Hà Nội'): [6, 9, 10], ('Trần Minh Tân', 26, 'Nghệ An'): [5, 8, 7], ('Cao Hoàng Yến', 20, 'Bắc Ninh'): [6, 10, 5]} [6, 9, 10]\n",
      "{('Hà Văng Hoàng', 24, 'Hà Nội'): [6, 9, 10], ('Trần Minh Tân', 26, 'Nghệ An'): [5, 8, 7], ('Cao Hoàng Yến', 20, 'Bắc Ninh'): [6, 10, 5]} [5, 8, 7]\n"
     ]
    }
   ],
   "source": [
    "students = {('Hà Văng Hoàng', 24, 'Hà Nội'): [6,9,10], ('Trần Minh Tân', 26, 'Nghệ An'):[5,8,7],('Cao Hoàng Yến', 20, 'Bắc Ninh'):[6,10,5]}\n",
    "for student in sorted(students):\n",
    "    print(students, students[student])"
   ]
  },
  {
   "cell_type": "code",
   "execution_count": 4,
   "id": "fd4be923",
   "metadata": {},
   "outputs": [
    {
     "name": "stdout",
     "output_type": "stream",
     "text": [
      "['An', 'Bình', 'Chiến', 'Đức']\n"
     ]
    }
   ],
   "source": [
    "alist = [\"An\", \"Bình\", \"Đức\", \"Chiến\"]\n",
    "blist = sorted(alist)\n",
    "print(blist)"
   ]
  }
 ],
 "metadata": {
  "kernelspec": {
   "display_name": "Python 3 (ipykernel)",
   "language": "python",
   "name": "python3"
  },
  "language_info": {
   "codemirror_mode": {
    "name": "ipython",
    "version": 3
   },
   "file_extension": ".py",
   "mimetype": "text/x-python",
   "name": "python",
   "nbconvert_exporter": "python",
   "pygments_lexer": "ipython3",
   "version": "3.11.3"
  }
 },
 "nbformat": 4,
 "nbformat_minor": 5
}
