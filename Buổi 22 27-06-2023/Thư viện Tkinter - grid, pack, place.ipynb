{
 "cells": [
  {
   "cell_type": "markdown",
   "id": "4c559a90",
   "metadata": {},
   "source": [
    "## pack\n",
    "\n",
    "Lệnh `pack()` sẽ giúp sắp xếp các đối tượng theo thứ tự nhất định"
   ]
  },
  {
   "cell_type": "code",
   "execution_count": null,
   "id": "d6af98e3",
   "metadata": {},
   "outputs": [],
   "source": [
    "from tkinter import *\n",
    "\n",
    "win = Tk()\n",
    "win.title('Login')\n",
    "\n",
    "lbl_login = Label(win, text = 'LOGIN')\n",
    "lbl_username = Label(win, text = 'User Name')\n",
    "lbl_password = Label(win, text = 'Password')\n",
    "\n",
    "username = Entry(win)\n",
    "password = Entry(win)\n",
    "\n",
    "btn_login = Button(win, text = 'Login')\n",
    "\n",
    "lbl_login.pack()\n",
    "lbl_username.pack()\n",
    "username.pack()\n",
    "lbl_password.pack()\n",
    "password.pack()\n",
    "btn_login.pack()\n",
    "win.mainloop()"
   ]
  },
  {
   "cell_type": "markdown",
   "id": "0093b00d",
   "metadata": {},
   "source": [
    "## grid\n",
    "Lệnh `grid()` sẽ giúp sắp xếp các đối tượng theo một bảng"
   ]
  },
  {
   "cell_type": "code",
   "execution_count": 2,
   "id": "d89cd306",
   "metadata": {},
   "outputs": [],
   "source": [
    "from tkinter import *\n",
    "\n",
    "win = Tk()\n",
    "win.title('Login')\n",
    "\n",
    "lbl_login = Label(win, text = 'LOGIN')\n",
    "lbl_username = Label(win, text = 'User Name')\n",
    "lbl_password = Label(win, text = 'Password')\n",
    "\n",
    "username = Entry(win)\n",
    "password = Entry(win)\n",
    "\n",
    "btn_login = Button(win, text = 'Login')\n",
    "\n",
    "lbl_login.grid(row = 0, column = 0, columnspan = 2)\n",
    "lbl_username.grid(row = 1, column = 0)\n",
    "username.grid(row = 1, column = 1)\n",
    "lbl_password.grid(row = 2, column = 0)\n",
    "password.grid(row = 2, column = 1)\n",
    "btn_login.grid(row = 3, column = 0)\n",
    "win.mainloop()"
   ]
  },
  {
   "cell_type": "markdown",
   "id": "f0a05577",
   "metadata": {},
   "source": [
    "## place\n",
    "\n",
    "Lệnh `place()` sắp xếp các widget bằng cách đặt chúng vào một vị trí cụ thể trong widget chính."
   ]
  },
  {
   "cell_type": "code",
   "execution_count": null,
   "id": "070e6374",
   "metadata": {},
   "outputs": [],
   "source": [
    "from tkinter import *\n",
    "\n",
    "win = Tk()\n",
    "win.title('Login')\n",
    "win.geometry(\"500x300\")\n",
    "\n",
    "lbl_login = Label(win, text = 'LOGIN')\n",
    "lbl_username = Label(win, text = 'User Name')\n",
    "lbl_password = Label(win, text = 'Password')\n",
    "\n",
    "username = Entry(win)\n",
    "password = Entry(win)\n",
    "\n",
    "btn_login = Button(win, text = 'Login')\n",
    "\n",
    "lbl_login.place(x = 210, y = 10)\n",
    "lbl_username.place(x = 140, y = 30)\n",
    "username.place(x = 220, y = 30)\n",
    "lbl_password.place(x = 140, y = 50)\n",
    "password.place(x = 220, y = 50)\n",
    "btn_login.place(x = 210, y = 80)\n",
    "\n",
    "win.mainloop()"
   ]
  }
 ],
 "metadata": {
  "kernelspec": {
   "display_name": "Python 3 (ipykernel)",
   "language": "python",
   "name": "python3"
  },
  "language_info": {
   "codemirror_mode": {
    "name": "ipython",
    "version": 3
   },
   "file_extension": ".py",
   "mimetype": "text/x-python",
   "name": "python",
   "nbconvert_exporter": "python",
   "pygments_lexer": "ipython3",
   "version": "3.11.3"
  }
 },
 "nbformat": 4,
 "nbformat_minor": 5
}
